{
 "cells": [
  {
   "cell_type": "markdown",
   "metadata": {},
   "source": [
    "# Problem 4, Parts F-H: Stochastic Gradient Descent with a Larger Dataset"
   ]
  },
  {
   "cell_type": "markdown",
   "metadata": {},
   "source": [
    "Use this notebook to write your code for problem 4 parts F-H by filling in the sections marked `# TODO` and running all cells."
   ]
  },
  {
   "cell_type": "code",
   "execution_count": 1,
   "metadata": {
    "collapsed": true
   },
   "outputs": [],
   "source": [
    "# Setup.\n",
    "\n",
    "import numpy as np\n",
    "import matplotlib.pyplot as plt\n",
    "\n",
    "%matplotlib inline"
   ]
  },
  {
   "cell_type": "markdown",
   "metadata": {},
   "source": [
    "## Problem 4F: Perform SGD with the new dataset"
   ]
  },
  {
   "cell_type": "markdown",
   "metadata": {},
   "source": [
    "For the functions below, you may re-use your code from parts 4C-E. Note that you can now modify your SGD function to return the final weight vector instead of the weights after every epoch."
   ]
  },
  {
   "cell_type": "code",
   "execution_count": 2,
   "metadata": {
    "collapsed": true
   },
   "outputs": [],
   "source": [
    "def loss(X, Y, w):\n",
    "    '''\n",
    "    Calculate the squared loss function.\n",
    "    \n",
    "    Inputs:\n",
    "        X: A (N, D) shaped numpy array containing the data points.\n",
    "        Y: A (N, ) shaped numpy array containing the (float) labels of the data points.\n",
    "        w: A (D, ) shaped numpy array containing the weight vector.\n",
    "    \n",
    "    Outputs:\n",
    "        The loss evaluated with respect to X, Y, and w.\n",
    "    '''\n",
    "    \n",
    "    l = 0\n",
    "    for i in range(len(X)):\n",
    "        squared_difference = (Y[i] - np.dot(w, X[i])) ** 2\n",
    "        l += squared_difference\n",
    "    return l\n",
    "    \n",
    "    pass\n",
    "\n",
    "def gradient(x, y, w):\n",
    "    '''\n",
    "    Calculate the gradient of the loss function with respect to\n",
    "    a single point (x, y), and using weight vector w.\n",
    "    \n",
    "    Inputs:\n",
    "        x: A (D, ) shaped numpy array containing a single data point.\n",
    "        y: The float label for the data point.\n",
    "        w: A (D, ) shaped numpy array containing the weight vector.\n",
    "        \n",
    "    Output:\n",
    "        The gradient of the loss with respect to x, y, and w. \n",
    "    '''\n",
    "    \n",
    "    g = -2 * (y - (np.dot(w, x))) * x\n",
    "    return g   \n",
    "    \n",
    "    pass\n",
    "\n",
    "def SGD(X, Y, w_start, eta, N_epochs):\n",
    "    '''\n",
    "    Perform SGD using dataset (X, Y), initial weight vector w_start,\n",
    "    learning rate eta, and N_epochs epochs.\n",
    "    \n",
    "    Inputs:\n",
    "        X: A (N, D) shaped numpy array containing the data points.\n",
    "        Y: A (N, ) shaped numpy array containing the (float) labels of the data points.\n",
    "        w_start:  A (D, ) shaped numpy array containing the weight vector initialization.\n",
    "        eta: The step size.\n",
    "        N_epochs: The number of epochs (iterations) to run SGD.\n",
    "        \n",
    "    Outputs:\n",
    "        w: A (D, ) shaped array containing the final weight vector.\n",
    "        losses: A (N_epochs, ) shaped array containing the losses from all iterations.\n",
    "    '''\n",
    "    \n",
    "    losses = []\n",
    "    current_weight = w_start\n",
    "    for i in range(N_epochs):\n",
    "        np.random.permutation(X)\n",
    "        losses.append(loss(X, Y, current_weight))\n",
    "        for j in range(len(X)):\n",
    "            current_weight = current_weight - (eta * gradient(X[j], Y[j], current_weight))\n",
    "    w = current_weight\n",
    "    return w, losses    \n",
    "    \n",
    "    pass"
   ]
  },
  {
   "cell_type": "markdown",
   "metadata": {},
   "source": [
    "Next, we need to load the dataset. In doing so, the following function may be helpful:"
   ]
  },
  {
   "cell_type": "code",
   "execution_count": 3,
   "metadata": {
    "collapsed": true
   },
   "outputs": [],
   "source": [
    "def load_data(filename):\n",
    "    \"\"\"\n",
    "    Function loads data stored in the file filename and returns it as a numpy ndarray.\n",
    "    Input:\n",
    "        filename: given as a string.\n",
    "    Output:\n",
    "        Data contained in the file, returned as a numpy ndarray\n",
    "    \"\"\"\n",
    "    return np.loadtxt(filename, skiprows=1, delimiter=',')"
   ]
  },
  {
   "cell_type": "markdown",
   "metadata": {},
   "source": [
    "Now, load the dataset in sgd_data.csv and run SGD using the given parameters; print out the final weights."
   ]
  },
  {
   "cell_type": "code",
   "execution_count": 4,
   "metadata": {},
   "outputs": [
    {
     "name": "stdout",
     "output_type": "stream",
     "text": [
      "[ -0.22720591  -5.94229011   3.94369494 -11.72402388   8.78549375]\n"
     ]
    }
   ],
   "source": [
    "#==============================================\n",
    "# TODO:\n",
    "# (1) load the dataset\n",
    "# (2) run SGD using the given parameters\n",
    "# (3) print out the final weights.\n",
    "#==============================================\n",
    "\n",
    "data = load_data(\"sgd_data.csv\")\n",
    "\n",
    "X = []\n",
    "Y = []\n",
    "for i in range(len(data)):\n",
    "    x = data[i][:4]\n",
    "    new_x = np.insert(x, 0, 1)\n",
    "    X.append(new_x)\n",
    "    Y.append(data[i][4])\n",
    "    \n",
    "eta = np.exp(-15) \n",
    "b = 0.001\n",
    "w = [b, 0.001, 0.001, 0.001, 0.001] \n",
    "N_epochs = 800\n",
    "\n",
    "weights, losses = SGD(X, Y, w, eta, N_epochs)\n",
    "\n",
    "print(weights)"
   ]
  },
  {
   "cell_type": "markdown",
   "metadata": {},
   "source": [
    "## Problem 4G: Convergence of SGD"
   ]
  },
  {
   "cell_type": "markdown",
   "metadata": {},
   "source": [
    "This problem examines the convergence of SGD for different learning rates. Please implement your code in the cell below:"
   ]
  },
  {
   "cell_type": "code",
   "execution_count": 5,
   "metadata": {},
   "outputs": [
    {
     "data": {
      "image/png": "[encoded data removed]",
      "text/plain": [
       "<matplotlib.figure.Figure at 0x189010ab550>"
      ]
     },
     "metadata": {},
     "output_type": "display_data"
    }
   ],
   "source": [
    "#==============================================\n",
    "# TODO: create a plot showing the convergence\n",
    "# of SGD for the different learning rates.\n",
    "#==============================================\n",
    "\n",
    "eta_vals = [np.exp(-10), np.exp(-11), np.exp(-12), np.exp(-13), np.exp(-14), np.exp(-15)]\n",
    "w_start = [0.001, 0.001, 0.001, 0.001, 0.001] \n",
    "N_epochs = 800\n",
    "\n",
    "legend_handles = []\n",
    "series_names = []\n",
    "\n",
    "plt.close('all')\n",
    "plt.figure()\n",
    "\n",
    "for eta in eta_vals:\n",
    "    _, losses = SGD(X, Y, w_start, eta, N_epochs)\n",
    "    name = 'eta = ' + str(eta)\n",
    "    data_series, = plt.plot(losses, label=name)\n",
    "    legend_handles.append(data_series)\n",
    "    series_names.append(name)\n",
    "\n",
    "plt.legend(legend_handles, series_names, loc = \"upper left\", bbox_to_anchor=(1, 1))\n",
    "plt.xlabel('Epoch')\n",
    "plt.ylabel('Loss')\n",
    "plt.title('SGD Squared Loss per Epoch for Various Eta Values')\n",
    "plt.show()"
   ]
  },
  {
   "cell_type": "markdown",
   "metadata": {},
   "source": [
    "## Problem 4H"
   ]
  },
  {
   "cell_type": "markdown",
   "metadata": {},
   "source": [
    "Provide your code for computing the least-squares analytical solution below."
   ]
  },
  {
   "cell_type": "code",
   "execution_count": 6,
   "metadata": {},
   "outputs": [
    {
     "name": "stdout",
     "output_type": "stream",
     "text": [
      "[ -0.31644251  -5.99157048   4.01509955 -11.93325972   8.99061096]\n"
     ]
    }
   ],
   "source": [
    "from numpy.linalg import inv\n",
    "\n",
    "X_transpose = np.transpose(X)\n",
    "product = np.dot(X_transpose, X)\n",
    "inverse = np.linalg.inv(product)\n",
    "w = np.dot(np.dot(inverse, X_transpose), Y)\n",
    "\n",
    "print(w)"
   ]
  }
 ],
 "metadata": {
  "anaconda-cloud": {},
  "kernelspec": {
   "display_name": "Python 3",
   "language": "python",
   "name": "python3"
  },
  "language_info": {
   "codemirror_mode": {
    "name": "ipython",
    "version": 3
   },
   "file_extension": ".py",
   "mimetype": "text/x-python",
   "name": "python",
   "nbconvert_exporter": "python",
   "pygments_lexer": "ipython3",
   "version": "3.6.2"
  }
 },
 "nbformat": 4,
 "nbformat_minor": 1
}
